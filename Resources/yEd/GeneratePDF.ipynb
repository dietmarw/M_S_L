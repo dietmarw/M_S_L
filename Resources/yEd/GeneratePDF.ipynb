{
 "metadata": {
  "name": "",
  "signature": "sha256:d9757272684e2787f58b2dea8e3e14e75e11b4803675afc8be83c11497182e91"
 },
 "nbformat": 3,
 "nbformat_minor": 0,
 "worksheets": [
  {
   "cells": [
    {
     "cell_type": "code",
     "collapsed": true,
     "input": [
      "HEADER=r\"\"\"%% Class hierarchy of M_S_L\n",
      "\\documentclass[aspectratio=1610]{beamer}\n",
      "\\usepackage[english]{babel}\n",
      "\\usepackage[scaled=.90]{helvet}\n",
      "\\graphicspath{{images/}}\n",
      "\\usepackage[utf8]{inputenc}\n",
      "\\usepackage[T1]{fontenc}\n",
      "\\usepackage{multimedia}\n",
      "\n",
      "\\setbeamertemplate{navigation symbols}{}\n",
      "\\setbeamertemplate{blocks}[rounded][shadow=true]\n",
      "\\setbeamertemplate{footline}[frame number]\n",
      "\n",
      "\\title{84\\textsuperscript{th} Modelica Design Meeting}\n",
      "\\subtitle{uses structure of the current \\texttt{M\\_S\\_L} (v3.2.1)}\n",
      "\\author{Dietmar Winkler}\n",
      "\\institute{Telemark University College}\n",
      "\\date{1\\textsuperscript{st} December 2014}\n",
      "\n",
      "\\begin{document}\n",
      "\\maketitle\n",
      "\"\"\""
     ],
     "language": "python",
     "metadata": {},
     "outputs": [],
     "prompt_number": 2
    },
    {
     "cell_type": "code",
     "collapsed": true,
     "input": [
      "FOOTER=r\"\"\"\n",
      "\\end{document}\n",
      "\"\"\""
     ],
     "language": "python",
     "metadata": {},
     "outputs": [],
     "prompt_number": 3
    },
    {
     "cell_type": "code",
     "collapsed": true,
     "input": [
      "FRAME=r\"\"\"\n",
      "\\begin{frame}\n",
      "  \\frametitle{\\texttt{%s}}\n",
      "  \\framesubtitle{Successors}\n",
      "  \\begin{figure}\n",
      "      \\includegraphics[width=\\textwidth]{%s}\n",
      "  \\end{figure}\n",
      "\\end{frame}\n",
      "\"\"\""
     ],
     "language": "python",
     "metadata": {},
     "outputs": [],
     "prompt_number": 4
    },
    {
     "cell_type": "code",
     "collapsed": true,
     "input": [
      "LIBS=['Modelica_Blocks_Interfaces',\n",
      "'Modelica_Blocks',\n",
      "'Modelica_ComplexBlocks_Interfaces',\n",
      "'Modelica_ComplexBlocks',\n",
      "'Modelica_ComplexMath',\n",
      "'Modelica_Constants',\n",
      "'Modelica_Electrical_Analog_Interfaces',\n",
      "'Modelica_Electrical_Analog',\n",
      "'Modelica_Electrical_Digital_Interfaces',\n",
      "'Modelica_Electrical_Digital',\n",
      "'Modelica_Electrical_Machines_Interfaces',\n",
      "'Modelica_Electrical_Machines',\n",
      "'Modelica_Electrical_MultiPhase_Interfaces',\n",
      "'Modelica_Electrical_MultiPhase',\n",
      "'Modelica_Electrical_QuasiStationary_Machines_Interfaces',\n",
      "'Modelica_Electrical_QuasiStationary_MultiPhase_Interfaces',\n",
      "'Modelica_Electrical_QuasiStationary',\n",
      "'Modelica_Electrical_QuasiStationary_SinglePhase_Interphases',\n",
      "'Modelica_Electrical_Spice3_Interphases',\n",
      "'Modelica_Electrical_Spice3',\n",
      "'Modelica_Fluid_interfaces',\n",
      "'Modelica_Fluid',\n",
      "'Modelica_Icons',\n",
      "'Modelica_Magnetic_FluxTubes_Interfaces',\n",
      "'Modelica_Magnetic_FluxTubes',\n",
      "'Modelica_Magnetic_FundamentalWave_Interfaces',\n",
      "'Modelica_Magnetic_FundamentalWave',\n",
      "'Modelica_Magnetic_QuasiStatic_FundamentalWave_Interfaces',\n",
      "'Modelica_Magnetic_QuasiStatic_FundamentalWave',\n",
      "'Modelica_Math',\n",
      "'Modelica_Mechanics_MultiBody_Interfaces',\n",
      "'Modelica_Mechanics_MultiBody',\n",
      "'Modelica_Mechanics_Rotational_Interfaces',\n",
      "'Modelica_Mechanics_Rotational',\n",
      "'Modelica_Mechanics_Translational_Interfaces',\n",
      "'Modelica_Mechanics_Translational',\n",
      "'Modelica_Media_Interfaces',\n",
      "'Modelica_Media',\n",
      "'Modelica_SIunits',\n",
      "'Modelica_Stategraph_Interfaces',\n",
      "'Modelica_StateGraph',\n",
      "'Modelica_Thermal_FluidHeatFlow_Interfaces',\n",
      "'Modelica_Thermal_FluidHeatFlow',\n",
      "'Modelica_Thermal_HeatTransfer_Interfaces',\n",
      "'Modelica_Thermal_HeatTransfer',\n",
      "'Modelica_Utilities']\n"
     ],
     "language": "python",
     "metadata": {},
     "outputs": [],
     "prompt_number": 5
    },
    {
     "cell_type": "code",
     "collapsed": false,
     "input": [
      "FRAMES=r\"\"\n",
      "for lib in LIBS:\n",
      "    FRAMES=FRAMES+(FRAME % (lib.replace('_', '\\_'), lib))\n",
      "OUTPUT=HEADER+FRAMES+FOOTER  \n",
      "!/bin/echo -E \"{OUTPUT}\" > structure.tex\n",
      "!pdflatex --output-directory=\"/tmp\" structure.tex 1>/dev/null \n",
      "!mv /tmp/structure.pdf . "
     ],
     "language": "python",
     "metadata": {},
     "outputs": [],
     "prompt_number": 17
    }
   ],
   "metadata": {}
  }
 ]
}