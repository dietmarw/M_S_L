{
 "metadata": {
  "name": "",
  "signature": "sha256:a42a051334f51898415bb1ab27e4cb4f4626c21bd8347b4b99a247508e95579a"
 },
 "nbformat": 3,
 "nbformat_minor": 0,
 "worksheets": [
  {
   "cells": [
    {
     "cell_type": "code",
     "collapsed": true,
     "input": [
      "HEADER=r\"\"\"%% Class hierarchy of M_S_L\n",
      "\\documentclass[aspectratio=1610]{beamer}\n",
      "\\usepackage[english]{babel}\n",
      "\\usepackage[scaled=.90]{helvet}\n",
      "\\graphicspath{{images/}}\n",
      "\\usepackage[utf8]{inputenc}\n",
      "\\usepackage[T1]{fontenc}\n",
      "\\usepackage{multimedia}\n",
      "\n",
      "\\setbeamertemplate{navigation symbols}{}\n",
      "\\setbeamertemplate{blocks}[rounded][shadow=true]\n",
      "\\setbeamertemplate{footline}[frame number]\n",
      "\n",
      "\\title{84\\textsuperscript{th} Modelica Design Meeting}\n",
      "\\subtitle{\\texttt{uses} structure of the current \\texttt{M\\_S\\_L} (v3.2.2-dev)}\n",
      "\\author{Dietmar Winkler}\n",
      "\\institute{Telemark University College}\n",
      "\\date{1\\textsuperscript{st} December 2014}\n",
      "\n",
      "\\begin{document}\n",
      "\\maketitle\n",
      "\"\"\""
     ],
     "language": "python",
     "metadata": {},
     "outputs": [],
     "prompt_number": 1
    },
    {
     "cell_type": "code",
     "collapsed": true,
     "input": [
      "FOOTER=r\"\"\"\n",
      "\\end{document}\n",
      "\"\"\""
     ],
     "language": "python",
     "metadata": {},
     "outputs": [],
     "prompt_number": 2
    },
    {
     "cell_type": "code",
     "collapsed": true,
     "input": [
      "FRAME=r\"\"\"\n",
      "\\begin{frame}\n",
      "  \\frametitle{\\texttt{%s}}\n",
      "  \\framesubtitle{Successors}\n",
      "  \\begin{figure}\n",
      "      \\includegraphics[width=\\textwidth]{%s}\n",
      "  \\end{figure}\n",
      "\\end{frame}\n",
      "\"\"\""
     ],
     "language": "python",
     "metadata": {},
     "outputs": [],
     "prompt_number": 3
    },
    {
     "cell_type": "code",
     "collapsed": false,
     "input": [
      "LIBS = !ls images/*.png"
     ],
     "language": "python",
     "metadata": {},
     "outputs": [],
     "prompt_number": 4
    },
    {
     "cell_type": "code",
     "collapsed": false,
     "input": [
      "FRAMES=r\"\"\n",
      "for lib in LIBS:\n",
      "    FRAMES=FRAMES+(FRAME % (lib.replace('_', '\\_'), lib))\n",
      "OUTPUT=(HEADER+FRAMES+FOOTER).replace('.png', '') \n",
      "!/bin/echo -E \"{OUTPUT}\" > structure.tex\n",
      "!pdflatex --output-directory=\"/tmp\" structure.tex 1>/dev/null \n",
      "!mv /tmp/structure.pdf . "
     ],
     "language": "python",
     "metadata": {},
     "outputs": [],
     "prompt_number": 5
    }
   ],
   "metadata": {}
  }
 ]
}